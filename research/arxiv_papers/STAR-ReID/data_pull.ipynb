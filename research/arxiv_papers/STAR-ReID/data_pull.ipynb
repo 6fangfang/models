{
 "cells": [
  {
   "cell_type": "code",
   "execution_count": null,
   "id": "599f6dea-d3a0-4457-9b4d-d0f0e8867e1b",
   "metadata": {},
   "outputs": [
    {
     "name": "stderr",
     "output_type": "stream",
     "text": [
      "100%|██████████| 3/3 [01:30<00:00, 30.12s/it]\n"
     ]
    }
   ],
   "source": [
    "from modelarts.session import Session \n",
    "session = Session()  \n",
    "\n",
    "# 1. 下载OBS文件至本地 \n",
    "# session.obs.copy(src_path='obs://***/data/info.zip', dst_path='/home/ma-user/work/info.zip')\n",
    "\n",
    "\n",
    "# 2. 下载OBS文件夹至本地 \n",
    "session.obs.copy(src_path='obs:/***/data', dst_path='/home/ma-user/work/', keep_last_dir=True)\n"
   ]
  }
 ],
 "metadata": {
  "kernelspec": {
   "display_name": "MindSpore",
   "language": "python",
   "name": "mindspore"
  },
  "language_info": {
   "codemirror_mode": {
    "name": "ipython",
    "version": 3
   },
   "file_extension": ".py",
   "mimetype": "text/x-python",
   "name": "python",
   "nbconvert_exporter": "python",
   "pygments_lexer": "ipython3",
   "version": "3.9.10"
  }
 },
 "nbformat": 4,
 "nbformat_minor": 5
}
