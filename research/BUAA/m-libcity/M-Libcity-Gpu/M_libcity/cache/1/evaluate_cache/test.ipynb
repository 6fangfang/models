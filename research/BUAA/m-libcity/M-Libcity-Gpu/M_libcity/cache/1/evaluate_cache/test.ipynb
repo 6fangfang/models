{
 "cells": [
  {
   "cell_type": "code",
   "execution_count": 1,
   "metadata": {},
   "outputs": [],
   "source": [
    "import numpy as np\n",
    "import pandas as pd"
   ]
  },
  {
   "cell_type": "code",
   "execution_count": 2,
   "metadata": {},
   "outputs": [],
   "source": [
    "data=np.load(\"/home/zhangwt/remote/M-Libcity/M_libcity/cache/42303/evaluate_cache/2023_10_18_07_26_54_GSNet_NYC_RISK_predictions.npz\")"
   ]
  },
  {
   "cell_type": "code",
   "execution_count": 3,
   "metadata": {},
   "outputs": [
    {
     "name": "stdout",
     "output_type": "stream",
     "text": [
      "prediction\n",
      "truth\n"
     ]
    }
   ],
   "source": [
    "for i in data:\n",
    "    print(i)"
   ]
  },
  {
   "cell_type": "code",
   "execution_count": 3,
   "metadata": {},
   "outputs": [],
   "source": [
    "preds=data['prediction']\n",
    "truth=data['truth']"
   ]
  },
  {
   "cell_type": "code",
   "execution_count": 4,
   "metadata": {},
   "outputs": [],
   "source": [
    "import math\n",
    "def transfer_dtype(y_true,y_pred):\n",
    "    return y_true.astype('float32'),y_pred.astype('float32')\n",
    "\n",
    "def mask_mse_np(y_true,y_pred,region_mask,null_val=None):\n",
    "    \"\"\"\n",
    "    Arguments:\n",
    "        y_true {np.ndarray} -- shape (samples,pre_len,W,H)\n",
    "        y_pred {np.ndarray} -- shape (samples,pre_len,W,H)\n",
    "        region_mask {np.ndarray} -- mask matrix,shape (W,H)\n",
    "    \n",
    "    Returns:\n",
    "        np.float32 -- MSE\n",
    "    \"\"\"\n",
    "    y_true,y_pred = transfer_dtype(y_true,y_pred)\n",
    "    if null_val is not None:\n",
    "        label_mask = np.where(y_true > 0,1,0).astype('float32')\n",
    "        label_mask = label_mask.reshape(-1,20,20)\n",
    "        mask = region_mask * label_mask\n",
    "    else:\n",
    "        mask = region_mask\n",
    "    mask /= mask.mean()\n",
    "    mask_value=(y_true-y_pred).reshape(-1,20,20)\n",
    "    print(mask_value.shape)\n",
    "    return np.mean(((mask_value)*mask)**2)\n",
    "\n",
    "def mask_rmse_np(y_true,y_pred,region_mask,null_val=None):\n",
    "    \"\"\"\n",
    "    Arguments:\n",
    "        y_true {np.ndarray} -- shape (samples,pre_len,W,H)\n",
    "        y_pred {np.ndarray} -- shape (samples,pre_len,W,H)\n",
    "        region_mask {np.ndarray} -- mask matrix, shape (W,H)\n",
    "    \n",
    "    Returns:\n",
    "        np.float32 -- RMSE\n",
    "    \"\"\"\n",
    "    y_true,y_pred = transfer_dtype(y_true,y_pred)\n",
    "    return math.sqrt(mask_mse_np(y_true,y_pred,region_mask,null_val))\n",
    "\n",
    "def nonzero_num(y_true):\n",
    "    \"\"\"get the grid number of have traffic accident in all time interval\n",
    "    \n",
    "    Arguments:\n",
    "        y_true {np.array} -- shape:(samples,pre_len,W,H)\n",
    "    Returns:\n",
    "        {list} -- (samples,)\n",
    "    \"\"\"\n",
    "    nonzero_list = []\n",
    "    threshold = 0\n",
    "    for i in range(len(y_true)):\n",
    "        non_zero_nums = (y_true[i] > threshold).sum()\n",
    "        nonzero_list.append(non_zero_nums)\n",
    "    return nonzero_list"
   ]
  },
  {
   "cell_type": "code",
   "execution_count": 9,
   "metadata": {},
   "outputs": [
    {
     "data": {
      "text/plain": [
       "array([[0., 0., 0., 0., 0., 0., 0., 0., 0., 0., 0., 0., 0., 0., 0., 0.,\n",
       "        0., 0., 0., 0.],\n",
       "       [0., 0., 0., 0., 0., 0., 0., 0., 0., 0., 0., 0., 0., 0., 0., 0.,\n",
       "        0., 0., 0., 0.],\n",
       "       [0., 0., 0., 0., 0., 0., 0., 0., 1., 1., 0., 0., 0., 0., 0., 0.,\n",
       "        0., 0., 0., 0.],\n",
       "       [0., 0., 0., 0., 0., 0., 1., 0., 1., 1., 0., 0., 0., 0., 0., 0.,\n",
       "        0., 0., 0., 0.],\n",
       "       [0., 0., 0., 0., 0., 0., 1., 1., 0., 0., 0., 0., 0., 0., 0., 0.,\n",
       "        0., 0., 0., 0.],\n",
       "       [0., 0., 0., 0., 0., 1., 1., 1., 0., 0., 0., 0., 0., 0., 0., 0.,\n",
       "        0., 0., 0., 0.],\n",
       "       [0., 0., 0., 0., 1., 0., 1., 0., 0., 0., 0., 0., 0., 0., 0., 0.,\n",
       "        0., 0., 0., 0.],\n",
       "       [0., 0., 0., 1., 1., 1., 0., 0., 0., 0., 0., 0., 0., 0., 0., 0.,\n",
       "        0., 0., 0., 0.],\n",
       "       [0., 0., 0., 1., 1., 1., 0., 1., 0., 1., 1., 0., 1., 0., 0., 0.,\n",
       "        0., 0., 0., 0.],\n",
       "       [0., 0., 1., 1., 1., 0., 0., 0., 0., 0., 1., 0., 0., 0., 0., 0.,\n",
       "        0., 0., 0., 0.],\n",
       "       [0., 0., 1., 1., 0., 1., 0., 0., 0., 0., 0., 0., 0., 0., 0., 0.,\n",
       "        0., 0., 0., 0.],\n",
       "       [0., 0., 0., 1., 0., 1., 1., 1., 0., 0., 0., 0., 0., 0., 0., 0.,\n",
       "        0., 0., 0., 0.],\n",
       "       [0., 0., 0., 0., 1., 1., 1., 1., 1., 1., 0., 1., 0., 0., 0., 0.,\n",
       "        0., 0., 0., 0.],\n",
       "       [0., 0., 0., 0., 0., 1., 1., 1., 1., 1., 0., 0., 0., 0., 0., 0.,\n",
       "        0., 0., 0., 0.],\n",
       "       [0., 0., 1., 0., 1., 1., 0., 1., 0., 0., 0., 0., 0., 0., 0., 0.,\n",
       "        0., 0., 0., 0.],\n",
       "       [0., 0., 0., 0., 0., 0., 0., 0., 0., 0., 0., 0., 0., 0., 0., 0.,\n",
       "        0., 0., 0., 0.],\n",
       "       [0., 0., 0., 0., 0., 1., 0., 0., 0., 0., 0., 0., 0., 0., 0., 0.,\n",
       "        0., 0., 0., 0.],\n",
       "       [0., 0., 0., 0., 0., 0., 0., 0., 0., 0., 0., 0., 0., 0., 0., 0.,\n",
       "        0., 0., 0., 0.],\n",
       "       [0., 0., 0., 0., 0., 0., 0., 0., 0., 0., 0., 0., 0., 0., 0., 0.,\n",
       "        0., 0., 0., 0.],\n",
       "       [0., 0., 0., 0., 0., 0., 0., 0., 0., 0., 0., 0., 0., 0., 0., 0.,\n",
       "        0., 0., 0., 0.]])"
      ]
     },
     "execution_count": 9,
     "metadata": {},
     "output_type": "execute_result"
    }
   ],
   "source": [
    "region_mask"
   ]
  },
  {
   "cell_type": "code",
   "execution_count": 10,
   "metadata": {},
   "outputs": [
    {
     "data": {
      "text/plain": [
       "(1056, 1, 20, 20, 1)"
      ]
     },
     "execution_count": 10,
     "metadata": {},
     "output_type": "execute_result"
    }
   ],
   "source": [
    "preds.shape"
   ]
  },
  {
   "cell_type": "code",
   "execution_count": 12,
   "metadata": {},
   "outputs": [
    {
     "name": "stdout",
     "output_type": "stream",
     "text": [
      "(1056, 20, 20)\n",
      "(1056, 1, 20, 20)\n",
      "7.947564736497253\n",
      "33.942786069651746\n",
      "0.186864386025116\n"
     ]
    }
   ],
   "source": [
    "import pickle as pkl\n",
    "region_mask=pkl.load(open('/home/zhangwt/remote/zwt/ViT/data/nyc/risk_mask.pkl','rb'))\n",
    "rmse=mask_rmse_np(truth,preds,region_mask)\n",
    "recall=Recall(truth,preds,region_mask)\n",
    "map1=MAP(truth,preds,region_mask)\n",
    "print(rmse)\n",
    "print(recall)\n",
    "print(map1)"
   ]
  },
  {
   "cell_type": "code",
   "execution_count": 8,
   "metadata": {},
   "outputs": [],
   "source": [
    "def get_top(data,accident_nums):\n",
    "    \"\"\"get top-K risk grid\n",
    "    Arguments:\n",
    "        data {np.array} -- shape (samples,pre_len,W,H)\n",
    "        accident_nums {list} -- (samples,)，grid number of have traffic accident in all time intervals\n",
    "    Returns:\n",
    "        {list} -- (samples,k)\n",
    "    \"\"\"\n",
    "    data = data.reshape((data.shape[0],-1))\n",
    "    topk_list = []\n",
    "    for i in range(len(data)):\n",
    "        risk = {}\n",
    "        for j in range(len(data[i])):\n",
    "            risk[j] = data[i][j]\n",
    "        k = int(accident_nums[i])\n",
    "        topk_list.append(list(dict(sorted(risk.items(),key=lambda x:x[1],reverse=True)[:k]).keys()))\n",
    "    return topk_list\n",
    "def Recall(y_true,y_pred,region_mask):\n",
    "    \"\"\"\n",
    "    Arguments:\n",
    "        y_true {np.ndarray} -- shape (samples,pre_len,W,H)\n",
    "        y_pred {np.ndarray} -- shape (samples,pre_len,W,H)\n",
    "        region_mask {np.ndarray} -- mask matrix,shape (W,H)\n",
    "    Returns:\n",
    "        float -- recall\n",
    "    \"\"\"\n",
    "    region_mask = np.where(region_mask >= 1,0,-1000)\n",
    "    y_true=y_true.squeeze(-1)\n",
    "    y_pred=y_pred.squeeze(-1)\n",
    "    tmp_y_true = y_true + region_mask\n",
    "    tmp_y_pred = y_pred + region_mask\n",
    "    print(tmp_y_pred.shape)\n",
    "\n",
    "    accident_grids_nums = nonzero_num(tmp_y_true)\n",
    "    \n",
    "    true_top_k = get_top(tmp_y_true,accident_grids_nums)\n",
    "    pred_top_k = get_top(tmp_y_pred,accident_grids_nums)\n",
    "    \n",
    "    hit_sum = 0\n",
    "    for i in range(len(true_top_k)):\n",
    "        intersection = [v for v in true_top_k[i] if v in pred_top_k[i]]\n",
    "        hit_sum += len(intersection)\n",
    "    return hit_sum / sum(accident_grids_nums) * 100\n",
    "\n",
    "\n",
    "def MAP(y_true,y_pred,region_mask):\n",
    "    \"\"\"\n",
    "        y_true {np.ndarray} -- shape (samples,pre_len,W,H)\n",
    "        y_pred {np.ndarray} -- shape (samples,pre_len,W,H)\n",
    "        region_mask {np.ndarray} -- mask matrix,shape (W,H)\n",
    "    \"\"\"\n",
    "    region_mask = np.where(region_mask >= 1,0,-1000)\n",
    "    y_true=y_true.squeeze(-1)\n",
    "    y_pred=y_pred.squeeze(-1)\n",
    "    tmp_y_true = y_true + region_mask\n",
    "    tmp_y_pred = y_pred + region_mask\n",
    "    \n",
    "    accident_grids_nums = nonzero_num(tmp_y_true)\n",
    "    \n",
    "    true_top_k = get_top(tmp_y_true,accident_grids_nums)\n",
    "    pred_top_k = get_top(tmp_y_pred,accident_grids_nums)\n",
    "\n",
    "    all_k_AP = []\n",
    "    for sample in range(len(true_top_k)):\n",
    "        all_k_AP.append(AP(list(true_top_k[sample]),list(pred_top_k[sample])))\n",
    "    return sum(all_k_AP)/len(all_k_AP)\n",
    "\n",
    "def AP(label_list,pre_list):\n",
    "    hits = 0\n",
    "    sum_precs = 0\n",
    "    for n in range(len(pre_list)):\n",
    "        if pre_list[n] in label_list:\n",
    "            hits += 1\n",
    "            sum_precs += hits / (n + 1.0)\n",
    "    if hits > 0:\n",
    "        return sum_precs / len(label_list)\n",
    "    else:\n",
    "        return 0"
   ]
  }
 ],
 "metadata": {
  "kernelspec": {
   "display_name": "torch",
   "language": "python",
   "name": "python3"
  },
  "language_info": {
   "codemirror_mode": {
    "name": "ipython",
    "version": 3
   },
   "file_extension": ".py",
   "mimetype": "text/x-python",
   "name": "python",
   "nbconvert_exporter": "python",
   "pygments_lexer": "ipython3",
   "version": "3.7.13"
  },
  "orig_nbformat": 4
 },
 "nbformat": 4,
 "nbformat_minor": 2
}
